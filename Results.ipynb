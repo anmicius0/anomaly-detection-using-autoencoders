{
 "cells": [
  {
   "cell_type": "code",
   "execution_count": 1,
   "metadata": {},
   "source": [
    "from model import AnomalyAE\n",
    "from PIL import Image\n",
    "import torch\n",
    "from torchvision.transforms import Compose, Grayscale, ToTensor\n",
    "import matplotlib.pyplot as plt\n",
    "%matplotlib inline"
   ],
   "outputs": []
  },
  {
   "cell_type": "code",
   "execution_count": 2,
   "metadata": {},
   "source": [
    "model = AnomalyAE()\n",
    "model.load_state_dict(torch.load('./model/best_model_25_loss=-2.1490116600327552e-06.pth'))\n",
    "model.eval()\n",
    "model = model.to('cuda')\n",
    "imgpath = \"./image/0045.PNG\"\n",
    "img = Image.open(imgpath).convert('L')\n",
    "transform = Compose([Grayscale(), ToTensor()])\n",
    "img = transform(img)\n",
    "img = img.to('cuda')\n",
    "img = img.unsqueeze(0)\n",
    "y = model(img)\n",
    "residual = torch.abs(img[0][0]-y[0][0])"
   ],
   "outputs": []
  },
  {
   "cell_type": "code",
   "execution_count": 22,
   "metadata": {},
   "source": [
    "plt.figure(figsize=(15,10))\n",
    "plt.subplot(121);\n",
    "plt.imshow(img.detach().cpu().numpy()[0][0]);\n",
    "plt.title('Image')\n",
    "plt.axis('off');\n",
    "plt.subplot(122);\n",
    "plt.imshow(residual.detach().cpu().numpy()>0.007);\n",
    "plt.title('Residual Thresholded')\n",
    "plt.axis('off');\n",
    "plt.savefig('sample_detection.png', bbox_inches='tight')"
   ],
   "outputs": []
  },
  {
   "cell_type": "code",
   "execution_count": 4,
   "metadata": {},
   "source": [
    "plt.hist(residual.detach().cpu().numpy().ravel())"
   ],
   "outputs": []
  },
  {
   "cell_type": "code",
   "execution_count": null,
   "metadata": {},
   "source": [],
   "outputs": []
  }
 ],
 "metadata": {
  "kernelspec": {
   "display_name": "Python [conda env:PyTorch]",
   "language": "python",
   "name": "conda-env-PyTorch-py"
  },
  "language_info": {
   "codemirror_mode": {
    "name": "ipython",
    "version": 3
   },
   "file_extension": ".py",
   "mimetype": "text/x-python",
   "name": "python",
   "nbconvert_exporter": "python",
   "pygments_lexer": "ipython3",
   "version": "3.7.7"
  }
 },
 "nbformat": 4,
 "nbformat_minor": 4
}
